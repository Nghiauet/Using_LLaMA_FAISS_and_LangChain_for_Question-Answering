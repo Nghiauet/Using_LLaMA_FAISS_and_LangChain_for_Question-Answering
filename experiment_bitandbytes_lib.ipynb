{
 "cells": [
  {
   "cell_type": "code",
   "execution_count": 13,
   "metadata": {},
   "outputs": [],
   "source": [
    "import torch\n",
    "import torch.nn as nn\n",
    "\n",
    "import bitsandbytes as bnb\n",
    "from bitsandbytes.nn import Linear8bitLt\n"
   ]
  },
  {
   "cell_type": "code",
   "execution_count": 14,
   "metadata": {},
   "outputs": [],
   "source": [
    "fp16_model = nn.Sequential(\n",
    "    nn.Linear(64, 64),\n",
    "    nn.Linear(64, 64)\n",
    ")\n",
    "torch.save(fp16_model.state_dict(), \"model.pt\")\n",
    "\n"
   ]
  },
  {
   "cell_type": "code",
   "execution_count": 15,
   "metadata": {},
   "outputs": [
    {
     "data": {
      "text/plain": [
       "Parameter containing:\n",
       "tensor([[ 0.0562,  0.0760, -0.0051,  ...,  0.1029, -0.0352, -0.1026],\n",
       "        [ 0.0066,  0.0971, -0.1236,  ...,  0.0787, -0.1059, -0.0588],\n",
       "        [-0.0472, -0.0559, -0.0660,  ..., -0.1105, -0.0135,  0.0303],\n",
       "        ...,\n",
       "        [ 0.0575, -0.0539, -0.0719,  ...,  0.0357, -0.1239,  0.0758],\n",
       "        [-0.0542,  0.0384,  0.1216,  ...,  0.0133, -0.0622,  0.1168],\n",
       "        [ 0.0424,  0.0323,  0.0753,  ..., -0.0846, -0.0855,  0.1147]],\n",
       "       requires_grad=True)"
      ]
     },
     "execution_count": 15,
     "metadata": {},
     "output_type": "execute_result"
    }
   ],
   "source": [
    "fp16_model[0].weight"
   ]
  },
  {
   "cell_type": "markdown",
   "metadata": {},
   "source": [
    "## Define int8 model "
   ]
  },
  {
   "cell_type": "code",
   "execution_count": 16,
   "metadata": {},
   "outputs": [],
   "source": [
    "int8_model = nn.Sequential(\n",
    "    Linear8bitLt(64, 64, has_fp16_weights=False),\n",
    "    Linear8bitLt(64, 64, has_fp16_weights=False)\n",
    ")"
   ]
  },
  {
   "cell_type": "markdown",
   "metadata": {},
   "source": [
    "## load the model with int8 "
   ]
  },
  {
   "cell_type": "code",
   "execution_count": 17,
   "metadata": {},
   "outputs": [],
   "source": [
    "int8_model.load_state_dict(torch.load(\"model.pt\"))\n",
    "int8_model = int8_model.to(0) # Quantization happens here"
   ]
  },
  {
   "cell_type": "code",
   "execution_count": 18,
   "metadata": {},
   "outputs": [
    {
     "data": {
      "text/plain": [
       "Parameter containing:\n",
       "Parameter(Int8Params([[  61,   82,   -6,  ...,  111,  -38, -111],\n",
       "            [   7,  100, -127,  ...,   81, -109,  -60],\n",
       "            [ -49,  -58,  -68,  ..., -114,  -14,   31],\n",
       "            ...,\n",
       "            [  59,  -55,  -74,  ...,   37, -127,   78],\n",
       "            [ -57,   40,  127,  ...,   14,  -65,  122],\n",
       "            [  43,   33,   76,  ...,  -86,  -87,  117]], device='cuda:0',\n",
       "           dtype=torch.int8))"
      ]
     },
     "execution_count": 18,
     "metadata": {},
     "output_type": "execute_result"
    }
   ],
   "source": [
    "int8_model[0].weight"
   ]
  },
  {
   "cell_type": "code",
   "execution_count": 19,
   "metadata": {},
   "outputs": [
    {
     "data": {
      "text/plain": [
       "tensor([[ 0.0566,  0.0798, -0.0058,  ...,  0.1082, -0.0364, -0.1093],\n",
       "        [ 0.0065,  0.0973, -0.1226,  ...,  0.0790, -0.1043, -0.0591],\n",
       "        [-0.0454, -0.0564, -0.0657,  ..., -0.1112, -0.0134,  0.0305],\n",
       "        ...,\n",
       "        [ 0.0547, -0.0535, -0.0714,  ...,  0.0361, -0.1216,  0.0768],\n",
       "        [-0.0529,  0.0389,  0.1226,  ...,  0.0137, -0.0622,  0.1201],\n",
       "        [ 0.0399,  0.0321,  0.0734,  ..., -0.0839, -0.0833,  0.1152]],\n",
       "       device='cuda:0')"
      ]
     },
     "execution_count": 19,
     "metadata": {},
     "output_type": "execute_result"
    }
   ],
   "source": [
    "(int8_model[0].weight.CB * int8_model[0].weight.SCB) / 127\n"
   ]
  },
  {
   "cell_type": "code",
   "execution_count": 20,
   "metadata": {},
   "outputs": [],
   "source": [
    "input_ = torch.randn((1, 64), dtype=torch.float16)\n",
    "hidden_states = int8_model(input_.to(torch.device('cuda', 0)))\n"
   ]
  },
  {
   "cell_type": "code",
   "execution_count": 21,
   "metadata": {},
   "outputs": [
    {
     "name": "stdout",
     "output_type": "stream",
     "text": [
      "Value 2: value2\n",
      "Value 3: value3\n"
     ]
    }
   ],
   "source": [
    "import re\n",
    "\n",
    "raw_request = '''POST /test HTTP/1.1\n",
    "Host: 127.0.0.1\n",
    "Content-Length: 44\n",
    "Accept: application/json, */*\n",
    "User-Agent: Mozilla/5.0 (Windows NT 10.0; Win64; x64) AppleWebKit/537.36 (KHTML, like Gecko) Chrome/116.0.0.0 Safari/537.36 Edg/116.0.1938.69\n",
    "Content-type: application/json\n",
    "Origin: http://127.0.0.1\n",
    "Referer: http://127.0.0.1\n",
    "Accept-Encoding: gzip, deflate\n",
    "Accept-Language: en-GB,en;q=0.9,ja;q=0.8,en-US;q=0.7\n",
    "Connection: close\n",
    "\n",
    "param1=value&param2=value2%26param3=value3'''\n",
    "\n",
    "regex_pattern = r'param2=([^%]+).+param3=([^&]+)'\n",
    "match = re.search(regex_pattern, raw_request)\n",
    "\n",
    "if match:\n",
    "    value2 = match.group(1)\n",
    "    value3 = match.group(2)\n",
    "    print(\"Value 2:\", value2)\n",
    "    print(\"Value 3:\", value3)"
   ]
  }
 ],
 "metadata": {
  "kernelspec": {
   "display_name": "GEC_env",
   "language": "python",
   "name": "python3"
  },
  "language_info": {
   "codemirror_mode": {
    "name": "ipython",
    "version": 3
   },
   "file_extension": ".py",
   "mimetype": "text/x-python",
   "name": "python",
   "nbconvert_exporter": "python",
   "pygments_lexer": "ipython3",
   "version": "3.8.10"
  },
  "orig_nbformat": 4
 },
 "nbformat": 4,
 "nbformat_minor": 2
}
