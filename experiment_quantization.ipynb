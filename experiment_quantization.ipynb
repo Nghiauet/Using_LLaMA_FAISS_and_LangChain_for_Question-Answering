{
 "cells": [
  {
   "cell_type": "markdown",
   "metadata": {},
   "source": [
    "# Import libraries"
   ]
  },
  {
   "cell_type": "code",
   "execution_count": null,
   "metadata": {},
   "outputs": [],
   "source": [
    "from transformers import pipeline \n",
    "import numpy as np\n",
    "import torch\n",
    "import pandas as pd \n",
    "import matplotlib.pyplot as plt\n",
    "from transformers import AutoModelForSequenceClassification, BertForSequenceClassification,AutoTokenizer\n",
    "from utils import *\n",
    "bert_ckpt = \"phnghiapro/distilbert-base-uncased-distilled-clinc\"\n",
    "device = torch.device(\"cuda:0\" if torch.cuda.is_available() else \"cpu\")\n",
    "pipe = pipeline('text-classification', model=bert_ckpt, device=device) \n",
    "print(\"device : \",device)\n",
    "print(\"device of pipeline : \", pipe.model.device)"
   ]
  },
  {
   "cell_type": "markdown",
   "metadata": {},
   "source": [
    "# plot the distribution of the weights"
   ]
  },
  {
   "cell_type": "code",
   "execution_count": null,
   "metadata": {},
   "outputs": [],
   "source": [
    "state_dict = pipe.model.to('cpu').state_dict()\n",
    "weights = state_dict['distilbert.transformer.layer.0.attention.out_lin.weight']\n",
    "plt.hist(weights.flatten().numpy(), bins=250, range=(-0.2,0.2), edgecolor=\"C0\")\n",
    "plt.show()"
   ]
  },
  {
   "cell_type": "code",
   "execution_count": null,
   "metadata": {},
   "outputs": [],
   "source": [
    "# value distributed in small range [-0.1, 0.1]\n",
    "zero_point = 0 \n",
    "scale = (weights.max() - weights.min()) / 255 "
   ]
  },
  {
   "cell_type": "code",
   "execution_count": null,
   "metadata": {},
   "outputs": [],
   "source": [
    "(weights / scale + zero_point).clamp(-128,127).round().char()"
   ]
  },
  {
   "cell_type": "markdown",
   "metadata": {},
   "source": [
    "# Compare time and size \n"
   ]
  },
  {
   "cell_type": "code",
   "execution_count": null,
   "metadata": {},
   "outputs": [],
   "source": [
    "from torch import quantize_per_tensor \n",
    "dtype = torch.qint8\n",
    "quantized_weights = quantize_per_tensor(weights, scale=scale, zero_point=zero_point, dtype=dtype) \n",
    "quantized_weights.int_repr() \n"
   ]
  },
  {
   "cell_type": "markdown",
   "metadata": {},
   "source": [
    "## compare time"
   ]
  },
  {
   "cell_type": "code",
   "execution_count": null,
   "metadata": {},
   "outputs": [],
   "source": [
    "# %%timeit\n",
    "# weights @ weights"
   ]
  },
  {
   "cell_type": "code",
   "execution_count": null,
   "metadata": {},
   "outputs": [],
   "source": [
    "from torch.nn.quantized import QFunctional \n",
    "q_fn = QFunctional() \n"
   ]
  },
  {
   "cell_type": "code",
   "execution_count": null,
   "metadata": {},
   "outputs": [],
   "source": [
    "# %%timeit\n",
    "# q_fn.mul(quantized_weights, quantized_weights)"
   ]
  },
  {
   "cell_type": "code",
   "execution_count": null,
   "metadata": {},
   "outputs": [],
   "source": [
    "# (1.26 milliseconds) / (95.9 microseconds) =\n",
    "# 13.1386861\n",
    "# 13 time faster"
   ]
  },
  {
   "cell_type": "markdown",
   "metadata": {},
   "source": [
    "## compare size \n"
   ]
  },
  {
   "cell_type": "code",
   "execution_count": null,
   "metadata": {},
   "outputs": [],
   "source": [
    "import sys\n",
    "sys.getsizeof(weights.storage()) / sys.getsizeof(quantized_weights.storage())\n",
    "# decrease 4 times in size\n",
    "#3.999755879241598\n"
   ]
  },
  {
   "cell_type": "markdown",
   "metadata": {},
   "source": [
    "# Quantize the model"
   ]
  },
  {
   "cell_type": "code",
   "execution_count": null,
   "metadata": {},
   "outputs": [],
   "source": [
    "from torch.quantization import quantize_dynamic \n",
    "model = (AutoModelForSequenceClassification.from_pretrained(bert_ckpt).to('cpu'))\n",
    "model_quantized = quantize_dynamic(model, {torch.nn.Linear}, dtype=torch.qint8)"
   ]
  },
  {
   "cell_type": "code",
   "execution_count": null,
   "metadata": {},
   "outputs": [],
   "source": [
    "from utils import *"
   ]
  },
  {
   "cell_type": "markdown",
   "metadata": {},
   "source": [
    "## Plot all the model benchmard"
   ]
  },
  {
   "cell_type": "code",
   "execution_count": null,
   "metadata": {},
   "outputs": [],
   "source": [
    "# #Distillation + quantization\n",
    "# model_ckpt = \"phnghiapro/distilbert-base-uncased-distilled-clinc\"\n",
    "# tokenizer = AutoTokenizer.from_pretrained(model_ckpt)\n",
    "\n",
    "# pipe = pipeline(\"text-classification\",\n",
    "#                 model=model_quantized,\n",
    "#                 tokenizer=tokenizer,\n",
    "#                 device=device\n",
    "#                 )\n",
    "# optim_type = \"Distillation + quantization\"\n",
    "# pb = PerformanceBenchmark(pipe, clinc[\"test\"], optim_type=optim_type)\n",
    "# perf_metrics = pb.run_benchmark()\n",
    "# # perf_metrics.update(pb.run_benchmark())\n",
    "\n",
    "\n",
    "#Distillation\n",
    "distilled_ckpt = \"phnghiapro/distilbert-base-uncased-distilled-clinc\"\n",
    "pipe = pipeline('text-classification', \n",
    "                model=distilled_ckpt,\n",
    "                # device=device\n",
    "                )\n",
    "optim_type = \"Distillation\"\n",
    "distilbert_benchmark = PerformanceBenchmark(pipe, clinc[\"test\"], optim_type)\n",
    "perf_metrics = pb.run_benchmark()\n",
    "# perf_metrics.update(distilbert_benchmark.run_benchmark())\n",
    "\n"
   ]
  },
  {
   "cell_type": "code",
   "execution_count": null,
   "metadata": {},
   "outputs": [],
   "source": [
    "plot_metrics(perf_metrics, optim_type)"
   ]
  }
 ],
 "metadata": {
  "kernelspec": {
   "display_name": "GEC_env",
   "language": "python",
   "name": "python3"
  },
  "language_info": {
   "codemirror_mode": {
    "name": "ipython",
    "version": 3
   },
   "file_extension": ".py",
   "mimetype": "text/x-python",
   "name": "python",
   "nbconvert_exporter": "python",
   "pygments_lexer": "ipython3",
   "version": "3.8.10"
  },
  "orig_nbformat": 4
 },
 "nbformat": 4,
 "nbformat_minor": 2
}
